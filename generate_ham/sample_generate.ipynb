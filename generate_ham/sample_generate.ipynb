{
 "cells": [
  {
   "cell_type": "markdown",
   "metadata": {
    "collapsed": false,
    "scrolled": true
   },
   "source": [
    "# Generate binary attention vector from raw human attention map data\n"
   ]
  },
  {
   "cell_type": "code",
   "execution_count": 1,
   "metadata": {
    "collapsed": false
   },
   "outputs": [
    {
     "name": "stdout",
     "output_type": "stream",
     "text": [
      "Number of words highlighted in this review: 2\n",
      "Original annotation: <span>I</span> <span>don't</span> <span>even</span> <span>know</span> <span>what</span> <span>to</span> <span>say.</span> <span>We</span> <span>never</span> <span>got</span> <span>to</span> <span>eat</span> <span>because</span> <span>the</span> <span>service</span> <span>was</span> <span>so</span> <span class=\"active\">horrible.</span> <span>The</span> <span>two</span> <span>girls</span> <span>on</span> <span>the</span> <span>floor</span> <span>were</span> <span>more</span> <span>interested</span> <span>in</span> <span>twirling</span> <span>their</span> <span>hair</span> <span>and</span> <span>chatting</span> <span>with</span> <span>another</span> <span>girl</span> <span>(obviously</span> <span>an</span> <span>out</span> <span>of</span> <span>uniform</span> <span>co-worker)</span> <span>than</span> <span>taking</span> <span>care</span> <span>of</span> <span>guests.</span> <span>The</span> <span>dining</span> <span>room</span> <span>was</span> <span>dirty</span> <span>and</span> <span>tables</span> <span>were</span> <span>in</span> <span class=\"active\">disarray.</span> <span>When</span> <span>they</span> <span>finally</span> <span>greeted</span> <span>us,</span> <span>they</span> <span>said</span> <span>\"hey</span> <span>guys,</span> <span>no</span> <span>food</span> <span>but</span> <span>drinks</span> <span>are</span> <span>available.\"</span> <span>When</span> <span>I</span> <span>asked</span> <span>what</span> <span>time</span> <span>they</span> <span>stopped</span> <span>serving</span> <span>she</span> <span>said</span> <span>\"10,</span> <span>but</span> <span>if</span> <span>it's</span> <span>slow</span> <span>we</span> <span>quit</span> <span>making</span> <span>food\".</span> <span>Slow?</span> <span>On</span> <span>a</span> <span>Saturday</span> <span>night?</span> <span>At</span> <span>9:30?</span> <span>Ok,</span> <span>whatever.</span> <span></span>\n",
      "Binarized attention map: [0, 0, 0, 0, 0, 0, 0, 0, 0, 0, 0, 0, 0, 0, 0, 0, 0, 1, 0, 0, 0, 0, 0, 0, 0, 0, 0, 0, 0, 0, 0, 0, 0, 0, 0, 0, 0, 0, 0, 0, 0, 0, 0, 0, 0, 0, 0, 0, 0, 0, 0, 0, 0, 0, 0, 0, 1, 0, 0, 0, 0, 0, 0, 0, 0, 0, 0, 0, 0, 0, 0, 0, 0, 0, 0, 0, 0, 0, 0, 0, 0, 0, 0, 0, 0, 0, 0, 0, 0, 0, 0, 0, 0, 0, 0, 0, 0, 0, 0, 0]\n"
     ]
    }
   ],
   "source": [
    "import pandas as pd \n",
    "import numpy as np\n",
    "import re\n",
    "\n",
    "\n",
    "def generate_binary_human_attention_vector(html, num_words_in_review, max_words):\n",
    "\n",
    "    p = re.compile('<span(.*?)/span>')\n",
    "    all_span_items = p.findall(html)\n",
    "    \n",
    "    if html == '{}':\n",
    "        print('Empty human annotation - This should never print')\n",
    "        return [0] * max_words\n",
    "    \n",
    "    if (len(all_span_items) == num_words_in_review+1 ):\n",
    "        if ((all_span_items[num_words_in_review] == '><') or (all_span_items[num_words_in_review] == ' data-vivaldi-spatnav-clickable=\"1\"><')):\n",
    "            \n",
    "            binarized_human_attention = [0] * max_words\n",
    "            for i in range(0,len(all_span_items)-1):\n",
    "                if 'class=\"active\"' in all_span_items[i]:\n",
    "                    binarized_human_attention[i] = 1\n",
    "\n",
    "        else:\n",
    "            print('This should never print.')\n",
    "    else:\n",
    "        print('This should never print.')\n",
    "\n",
    "        \n",
    "    return binarized_human_attention\n",
    "\n",
    "\n",
    "MAX_WORDS = 100\n",
    "df = pd.read_csv('../raw_data/ham_part3.csv')\n",
    "i = 0\n",
    "html = df['Answer.html_output'][i]\n",
    "num_highlighted = html.count('class=\"active\"')\n",
    "num_words_in_review = len(df['Input.text'][i].split())\n",
    "\n",
    "\n",
    "binarized_human_attention = generate_binary_human_attention_vector(html, num_words_in_review, MAX_WORDS)\n",
    "\n",
    "\n",
    "print(\"Number of words highlighted in this review:\",num_highlighted)\n",
    "print(\"Original annotation:\", html)\n",
    "print(\"Binarized attention map:\",binarized_human_attention)\n"
   ]
  },
  {
   "cell_type": "code",
   "execution_count": null,
   "metadata": {
    "collapsed": true
   },
   "outputs": [],
   "source": []
  }
 ],
 "metadata": {
  "kernelspec": {
   "display_name": "Python 3",
   "language": "python",
   "name": "python3"
  },
  "language_info": {
   "codemirror_mode": {
    "name": "ipython",
    "version": 3
   },
   "file_extension": ".py",
   "mimetype": "text/x-python",
   "name": "python",
   "nbconvert_exporter": "python",
   "pygments_lexer": "ipython3",
   "version": "3.6.0"
  }
 },
 "nbformat": 4,
 "nbformat_minor": 0
}
